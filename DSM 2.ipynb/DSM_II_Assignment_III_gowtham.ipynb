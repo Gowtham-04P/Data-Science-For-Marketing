{
  "cells": [
    {
      "cell_type": "code",
      "execution_count": 1,
      "metadata": {},
      "outputs": [],
      "source": [
        "import pandas as pd \n",
        "import numpy as np\n",
        "import matplotlib.pyplot as plt\n",
        "import seaborn as sns"
      ]
    },
    {
      "cell_type": "markdown",
      "metadata": {
        "id": "5bzJTERpPtsV"
      },
      "source": [
        "**Load the simulated transaction dataset.**"
      ]
    },
    {
      "cell_type": "code",
      "execution_count": 2,
      "metadata": {
        "id": "kgVck3hcPzq3"
      },
      "outputs": [],
      "source": [
        "data = {\n",
        "    'CustomerID': [1, 2, 1, 3, 2, 4, 5, 4, 3, 5, 1, 2],\n",
        "    'OrderDate': [\n",
        "        '2023-01-01', '2023-01-05', '2023-02-01', '2023-02-10', '2023-02-15',\n",
        "        '2023-03-01', '2023-03-05', '2023-03-10', '2023-03-15', '2023-04-01',\n",
        "        '2023-04-05', '2023-04-10'\n",
        "    ],\n",
        "    'OrderValue': [100, 200, 150, 300, 250, 400, 500, 450, 350, 600, 700, 550]\n",
        "}\n",
        "\n",
        "# Create a DataFrame\n",
        "df = pd.DataFrame(data)"
      ]
    },
    {
      "cell_type": "code",
      "execution_count": 4,
      "metadata": {
        "id": "sCgTjwPaQKc1"
      },
      "outputs": [
        {
          "data": {
            "text/html": [
              "<div>\n",
              "<style scoped>\n",
              "    .dataframe tbody tr th:only-of-type {\n",
              "        vertical-align: middle;\n",
              "    }\n",
              "\n",
              "    .dataframe tbody tr th {\n",
              "        vertical-align: top;\n",
              "    }\n",
              "\n",
              "    .dataframe thead th {\n",
              "        text-align: right;\n",
              "    }\n",
              "</style>\n",
              "<table border=\"1\" class=\"dataframe\">\n",
              "  <thead>\n",
              "    <tr style=\"text-align: right;\">\n",
              "      <th></th>\n",
              "      <th>CustomerID</th>\n",
              "      <th>OrderDate</th>\n",
              "      <th>OrderValue</th>\n",
              "    </tr>\n",
              "  </thead>\n",
              "  <tbody>\n",
              "    <tr>\n",
              "      <th>0</th>\n",
              "      <td>1</td>\n",
              "      <td>2023-01-01</td>\n",
              "      <td>100</td>\n",
              "    </tr>\n",
              "    <tr>\n",
              "      <th>1</th>\n",
              "      <td>2</td>\n",
              "      <td>2023-01-05</td>\n",
              "      <td>200</td>\n",
              "    </tr>\n",
              "    <tr>\n",
              "      <th>2</th>\n",
              "      <td>1</td>\n",
              "      <td>2023-02-01</td>\n",
              "      <td>150</td>\n",
              "    </tr>\n",
              "    <tr>\n",
              "      <th>3</th>\n",
              "      <td>3</td>\n",
              "      <td>2023-02-10</td>\n",
              "      <td>300</td>\n",
              "    </tr>\n",
              "    <tr>\n",
              "      <th>4</th>\n",
              "      <td>2</td>\n",
              "      <td>2023-02-15</td>\n",
              "      <td>250</td>\n",
              "    </tr>\n",
              "    <tr>\n",
              "      <th>5</th>\n",
              "      <td>4</td>\n",
              "      <td>2023-03-01</td>\n",
              "      <td>400</td>\n",
              "    </tr>\n",
              "    <tr>\n",
              "      <th>6</th>\n",
              "      <td>5</td>\n",
              "      <td>2023-03-05</td>\n",
              "      <td>500</td>\n",
              "    </tr>\n",
              "    <tr>\n",
              "      <th>7</th>\n",
              "      <td>4</td>\n",
              "      <td>2023-03-10</td>\n",
              "      <td>450</td>\n",
              "    </tr>\n",
              "    <tr>\n",
              "      <th>8</th>\n",
              "      <td>3</td>\n",
              "      <td>2023-03-15</td>\n",
              "      <td>350</td>\n",
              "    </tr>\n",
              "    <tr>\n",
              "      <th>9</th>\n",
              "      <td>5</td>\n",
              "      <td>2023-04-01</td>\n",
              "      <td>600</td>\n",
              "    </tr>\n",
              "    <tr>\n",
              "      <th>10</th>\n",
              "      <td>1</td>\n",
              "      <td>2023-04-05</td>\n",
              "      <td>700</td>\n",
              "    </tr>\n",
              "    <tr>\n",
              "      <th>11</th>\n",
              "      <td>2</td>\n",
              "      <td>2023-04-10</td>\n",
              "      <td>550</td>\n",
              "    </tr>\n",
              "  </tbody>\n",
              "</table>\n",
              "</div>"
            ],
            "text/plain": [
              "    CustomerID   OrderDate  OrderValue\n",
              "0            1  2023-01-01         100\n",
              "1            2  2023-01-05         200\n",
              "2            1  2023-02-01         150\n",
              "3            3  2023-02-10         300\n",
              "4            2  2023-02-15         250\n",
              "5            4  2023-03-01         400\n",
              "6            5  2023-03-05         500\n",
              "7            4  2023-03-10         450\n",
              "8            3  2023-03-15         350\n",
              "9            5  2023-04-01         600\n",
              "10           1  2023-04-05         700\n",
              "11           2  2023-04-10         550"
            ]
          },
          "execution_count": 4,
          "metadata": {},
          "output_type": "execute_result"
        }
      ],
      "source": [
        "df = pd.DataFrame(data)\n",
        "df"
      ]
    },
    {
      "cell_type": "markdown",
      "metadata": {
        "id": "vWz96jlcP4cj"
      },
      "source": [
        "**Prepare the dataset by converting date columns to datetime format and  **\n",
        "\n",
        "**calculating the recency, frequency, and monetary value for each customer **"
      ]
    },
    {
      "cell_type": "code",
      "execution_count": 5,
      "metadata": {
        "id": "Kfhqsi3SQTt7"
      },
      "outputs": [],
      "source": [
        "df['OrderDate'] = pd.to_datetime(df['OrderDate'])\n",
        "\n",
        "# Calculate the total revenue (monetary value) for each customer\n",
        "monetary = df.groupby('CustomerID')['OrderValue'].sum().reset_index()\n",
        "monetary.columns = ['CustomerID', 'Monetary']\n",
        "\n",
        "# Calculate the frequency of transactions for each customer\n",
        "frequency = df.groupby('CustomerID')['OrderDate'].count().reset_index()\n",
        "frequency.columns = ['CustomerID', 'Frequency']\n",
        "\n",
        "# Calculate the recency for each customer (the number of days since the last purchase)\n",
        "max_date = df['OrderDate'].max()\n",
        "recency = df.groupby('CustomerID')['OrderDate'].max().reset_index()\n",
        "recency.columns = ['CustomerID', 'LastPurchaseDate']\n",
        "recency['Recency'] = (max_date - recency['LastPurchaseDate']).dt.days\n",
        "\n",
        "# Merge all data into a single DataFrame\n",
        "rfm = pd.merge(recency, frequency, on='CustomerID')\n",
        "rfm = pd.merge(rfm, monetary, on='CustomerID')\n"
      ]
    },
    {
      "cell_type": "markdown",
      "metadata": {
        "id": "jkW9sDFaUdOx"
      },
      "source": [
        "Calculate the 3-month CLV for each customer using average monthly revenue\n",
        "\n",
        "multiplied by the number of months"
      ]
    },
    {
      "cell_type": "code",
      "execution_count": 8,
      "metadata": {},
      "outputs": [
        {
          "name": "stdout",
          "output_type": "stream",
          "text": [
            "   CustomerID  CLV_3_Months\n",
            "0           1    863.636364\n",
            "1           2    947.368421\n",
            "2           3    991.525424\n",
            "3           4   1912.500000\n",
            "4           5   2750.000000\n"
          ]
        }
      ],
      "source": [
        "# Calculate the number of months each customer has been active\n",
        "rfm['MonthsActive'] = (df.groupby('CustomerID')['OrderDate']\n",
        "                       .min()\n",
        "                       .apply(lambda x: (max_date - x).days / 30)\n",
        "                       .reset_index(drop=True))\n",
        "\n",
        "# Average monthly revenue per customer\n",
        "rfm['AvgMonthlyRevenue'] = rfm['Monetary'] / rfm['MonthsActive']\n",
        "\n",
        "# 3-month CLV estimation\n",
        "rfm['CLV_3_Months'] = rfm['AvgMonthlyRevenue'] * 3\n",
        "\n",
        "# Display results\n",
        "print(rfm[['CustomerID', 'CLV_3_Months']])"
      ]
    },
    {
      "cell_type": "code",
      "execution_count": 9,
      "metadata": {},
      "outputs": [
        {
          "data": {
            "text/html": [
              "<div>\n",
              "<style scoped>\n",
              "    .dataframe tbody tr th:only-of-type {\n",
              "        vertical-align: middle;\n",
              "    }\n",
              "\n",
              "    .dataframe tbody tr th {\n",
              "        vertical-align: top;\n",
              "    }\n",
              "\n",
              "    .dataframe thead th {\n",
              "        text-align: right;\n",
              "    }\n",
              "</style>\n",
              "<table border=\"1\" class=\"dataframe\">\n",
              "  <thead>\n",
              "    <tr style=\"text-align: right;\">\n",
              "      <th></th>\n",
              "      <th>CustomerID</th>\n",
              "      <th>LastPurchaseDate</th>\n",
              "      <th>Recency</th>\n",
              "      <th>Frequency</th>\n",
              "      <th>Monetary</th>\n",
              "      <th>average_order_value</th>\n",
              "      <th>MonthsActive</th>\n",
              "      <th>AvgMonthlyRevenue</th>\n",
              "      <th>CLV_3_Months</th>\n",
              "    </tr>\n",
              "  </thead>\n",
              "  <tbody>\n",
              "    <tr>\n",
              "      <th>0</th>\n",
              "      <td>1</td>\n",
              "      <td>2023-04-05</td>\n",
              "      <td>5</td>\n",
              "      <td>3</td>\n",
              "      <td>950</td>\n",
              "      <td>316.666667</td>\n",
              "      <td>3.300000</td>\n",
              "      <td>287.878788</td>\n",
              "      <td>863.636364</td>\n",
              "    </tr>\n",
              "    <tr>\n",
              "      <th>1</th>\n",
              "      <td>2</td>\n",
              "      <td>2023-04-10</td>\n",
              "      <td>0</td>\n",
              "      <td>3</td>\n",
              "      <td>1000</td>\n",
              "      <td>333.333333</td>\n",
              "      <td>3.166667</td>\n",
              "      <td>315.789474</td>\n",
              "      <td>947.368421</td>\n",
              "    </tr>\n",
              "    <tr>\n",
              "      <th>2</th>\n",
              "      <td>3</td>\n",
              "      <td>2023-03-15</td>\n",
              "      <td>26</td>\n",
              "      <td>2</td>\n",
              "      <td>650</td>\n",
              "      <td>325.000000</td>\n",
              "      <td>1.966667</td>\n",
              "      <td>330.508475</td>\n",
              "      <td>991.525424</td>\n",
              "    </tr>\n",
              "    <tr>\n",
              "      <th>3</th>\n",
              "      <td>4</td>\n",
              "      <td>2023-03-10</td>\n",
              "      <td>31</td>\n",
              "      <td>2</td>\n",
              "      <td>850</td>\n",
              "      <td>425.000000</td>\n",
              "      <td>1.333333</td>\n",
              "      <td>637.500000</td>\n",
              "      <td>1912.500000</td>\n",
              "    </tr>\n",
              "    <tr>\n",
              "      <th>4</th>\n",
              "      <td>5</td>\n",
              "      <td>2023-04-01</td>\n",
              "      <td>9</td>\n",
              "      <td>2</td>\n",
              "      <td>1100</td>\n",
              "      <td>550.000000</td>\n",
              "      <td>1.200000</td>\n",
              "      <td>916.666667</td>\n",
              "      <td>2750.000000</td>\n",
              "    </tr>\n",
              "  </tbody>\n",
              "</table>\n",
              "</div>"
            ],
            "text/plain": [
              "   CustomerID LastPurchaseDate  Recency  Frequency  Monetary  \\\n",
              "0           1       2023-04-05        5          3       950   \n",
              "1           2       2023-04-10        0          3      1000   \n",
              "2           3       2023-03-15       26          2       650   \n",
              "3           4       2023-03-10       31          2       850   \n",
              "4           5       2023-04-01        9          2      1100   \n",
              "\n",
              "   average_order_value  MonthsActive  AvgMonthlyRevenue  CLV_3_Months  \n",
              "0           316.666667      3.300000         287.878788    863.636364  \n",
              "1           333.333333      3.166667         315.789474    947.368421  \n",
              "2           325.000000      1.966667         330.508475    991.525424  \n",
              "3           425.000000      1.333333         637.500000   1912.500000  \n",
              "4           550.000000      1.200000         916.666667   2750.000000  "
            ]
          },
          "execution_count": 9,
          "metadata": {},
          "output_type": "execute_result"
        }
      ],
      "source": [
        "rfm['average_order_value'] = rfm['Monetary'] / rfm['Frequency']\n",
        "rfm\n"
      ]
    }
  ],
  "metadata": {
    "colab": {
      "provenance": []
    },
    "kernelspec": {
      "display_name": "Python 3",
      "name": "python3"
    },
    "language_info": {
      "codemirror_mode": {
        "name": "ipython",
        "version": 3
      },
      "file_extension": ".py",
      "mimetype": "text/x-python",
      "name": "python",
      "nbconvert_exporter": "python",
      "pygments_lexer": "ipython3",
      "version": "3.12.8"
    }
  },
  "nbformat": 4,
  "nbformat_minor": 0
}
